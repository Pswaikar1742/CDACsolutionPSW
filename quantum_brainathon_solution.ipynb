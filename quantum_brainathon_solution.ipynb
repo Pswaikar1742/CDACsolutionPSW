{
 "cells": [
  {
   "cell_type": "markdown",
   "metadata": {},
   "source": [
    "# Quantum Brainathon 2025 - EEG Attention Classification\n",
    "\n",
    "This notebook implements a quantum computing approach to classify different types of attention based on EEG data.\n",
    "\n",
    "## Table of Contents\n",
    "1. Setup and Imports\n",
    "2. Data Loading and Preprocessing\n",
    "3. Classical Feature Extraction\n",
    "4. Quantum Feature Mapping\n",
    "5. Quantum Classification\n",
    "6. Results Analysis and Visualization\n",
    "7. Performance Comparison"
   ]
  },
  {
   "cell_type": "code",
   "execution_count": 1,
   "metadata": {},
   "outputs": [
    {
     "ename": "ModuleNotFoundError",
     "evalue": "No module named 'numpy'",
     "output_type": "error",
     "traceback": [
      "\u001b[31m---------------------------------------------------------------------------\u001b[39m",
      "\u001b[31mModuleNotFoundError\u001b[39m                       Traceback (most recent call last)",
      "\u001b[36mCell\u001b[39m\u001b[36m \u001b[39m\u001b[32mIn[1]\u001b[39m\u001b[32m, line 2\u001b[39m\n\u001b[32m      1\u001b[39m \u001b[38;5;66;03m# Standard imports\u001b[39;00m\n\u001b[32m----> \u001b[39m\u001b[32m2\u001b[39m \u001b[38;5;28;01mimport\u001b[39;00m\u001b[38;5;250m \u001b[39m\u001b[34;01mnumpy\u001b[39;00m\u001b[38;5;250m \u001b[39m\u001b[38;5;28;01mas\u001b[39;00m\u001b[38;5;250m \u001b[39m\u001b[34;01mnp\u001b[39;00m\n\u001b[32m      3\u001b[39m \u001b[38;5;28;01mimport\u001b[39;00m\u001b[38;5;250m \u001b[39m\u001b[34;01mpandas\u001b[39;00m\u001b[38;5;250m \u001b[39m\u001b[38;5;28;01mas\u001b[39;00m\u001b[38;5;250m \u001b[39m\u001b[34;01mpd\u001b[39;00m\n\u001b[32m      4\u001b[39m \u001b[38;5;28;01mimport\u001b[39;00m\u001b[38;5;250m \u001b[39m\u001b[34;01mmatplotlib\u001b[39;00m\u001b[34;01m.\u001b[39;00m\u001b[34;01mpyplot\u001b[39;00m\u001b[38;5;250m \u001b[39m\u001b[38;5;28;01mas\u001b[39;00m\u001b[38;5;250m \u001b[39m\u001b[34;01mplt\u001b[39;00m\n",
      "\u001b[31mModuleNotFoundError\u001b[39m: No module named 'numpy'"
     ]
    }
   ],
   "source": [
    "# Standard imports\n",
    "import numpy as np\n",
    "import pandas as pd\n",
    "import matplotlib.pyplot as plt\n",
    "import seaborn as sns\n",
    "\n",
    "# Quantum imports\n",
    "from qiskit import QuantumCircuit, Aer, execute\n",
    "from qiskit.circuit.library import ZZFeatureMap\n",
    "from qiskit_machine_learning.algorithms import QSVC\n",
    "\n",
    "# Custom modules\n",
    "from data_loader import EEGDataLoader\n",
    "from preprocessing import preprocess_eeg\n",
    "from feature_extraction import extract_band_powers\n",
    "from quantum_ops import QuantumFeatureMapper, QuantumKernelClassifier\n",
    "from quantum_config import get_quantum_config, print_config_summary\n",
    "\n",
    "# Set random seed\n",
    "np.random.seed(42)\n",
    "\n",
    "# Load quantum configuration\n",
    "quantum_config = get_quantum_config()\n",
    "print_config_summary()"
   ]
  },
  {
   "cell_type": "code",
   "execution_count": null,
   "metadata": {},
   "outputs": [],
   "source": [
    "# Initialize data loader\n",
    "loader = EEGDataLoader()\n",
    "\n",
    "# Load data\n",
    "print(\"Loading EEG data...\")\n",
    "all_subjects = loader.load_all_subjects()\n",
    "X, y = loader.get_all_paradigm_data(all_subjects)\n",
    "\n",
    "# Preprocess data\n",
    "print(\"\\nPreprocessing EEG signals...\")\n",
    "X_preprocessed = preprocess_eeg(X)\n",
    "\n",
    "# Display data summary\n",
    "print(f\"\\nDataset Summary:\")\n",
    "print(f\"Number of samples: {len(X)}\")\n",
    "print(f\"Number of channels: {X.shape[1]}\")\n",
    "print(f\"Unique paradigms: {np.unique(y)}\")"
   ]
  },
  {
   "cell_type": "code",
   "execution_count": null,
   "metadata": {},
   "outputs": [],
   "source": [
    "# Extract classical features\n",
    "def extract_features(data):\n",
    "    features = []\n",
    "    for channel in data.columns:\n",
    "        powers = extract_band_powers(data[channel])\n",
    "        features.extend(list(powers.values()))\n",
    "    return np.array(features)\n",
    "\n",
    "print(\"Extracting classical features...\")\n",
    "X_features = np.array([extract_features(X_preprocessed.iloc[i:i+1]) \n",
    "                      for i in range(len(X_preprocessed))])\n",
    "print(f\"Extracted {X_features.shape[1]} features per sample\")"
   ]
  },
  {
   "cell_type": "code",
   "execution_count": null,
   "metadata": {},
   "outputs": [],
   "source": [
    "# Initialize quantum feature mapper\n",
    "n_qubits = quantum_config['quantum_params']['n_qubits']\n",
    "feature_mapper = QuantumFeatureMapper(\n",
    "    n_qubits=n_qubits,\n",
    "    reps=quantum_config['quantum_params']['feature_map_reps']\n",
    ")\n",
    "\n",
    "# Map features to quantum states\n",
    "print(\"Mapping features to quantum states...\")\n",
    "X_quantum = feature_mapper.batch_encode_features(X_features)\n",
    "\n",
    "# Visualize quantum circuit\n",
    "print(\"\\nQuantum Feature Map Circuit:\")\n",
    "feature_mapper.feature_map.draw(output='mpl')\n",
    "plt.show()"
   ]
  },
  {
   "cell_type": "code",
   "execution_count": null,
   "metadata": {},
   "outputs": [],
   "source": [
    "from sklearn.model_selection import train_test_split\n",
    "from sklearn.preprocessing import LabelEncoder\n",
    "\n",
    "# Prepare data\n",
    "le = LabelEncoder()\n",
    "y_encoded = le.fit_transform(y)\n",
    "\n",
    "# Split data\n",
    "X_train, X_test, y_train, y_test = train_test_split(\n",
    "    X_quantum, y_encoded, \n",
    "    test_size=0.2, \n",
    "    random_state=42\n",
    ")\n",
    "\n",
    "# Initialize and train quantum classifier\n",
    "classifier = QuantumKernelClassifier(\n",
    "    n_qubits=n_qubits,\n",
    "    optimizer_config=quantum_config['optimizer']\n",
    ")\n",
    "\n",
    "print(\"Training quantum classifier...\")\n",
    "classifier.train(X_train, y_train)\n",
    "\n",
    "# Make predictions\n",
    "y_pred = classifier.predict(X_test)\n",
    "\n",
    "# Calculate accuracy\n",
    "accuracy = np.mean(y_pred == y_test)\n",
    "print(f\"\\nQuantum Classification Accuracy: {accuracy:.4f}\")"
   ]
  },
  {
   "cell_type": "code",
   "execution_count": null,
   "metadata": {},
   "outputs": [],
   "source": [
    "from sklearn.metrics import confusion_matrix, classification_report\n",
    "\n",
    "# Plot confusion matrix\n",
    "cm = confusion_matrix(y_test, y_pred)\n",
    "plt.figure(figsize=(10, 8))\n",
    "sns.heatmap(cm, annot=True, fmt='d',\n",
    "            xticklabels=le.classes_,\n",
    "            yticklabels=le.classes_)\n",
    "plt.title('Confusion Matrix')\n",
    "plt.xlabel('Predicted')\n",
    "plt.ylabel('True')\n",
    "plt.show()\n",
    "\n",
    "# Print classification report\n",
    "print(\"\\nClassification Report:\")\n",
    "print(classification_report(y_test, y_pred, target_names=le.classes_))"
   ]
  },
  {
   "cell_type": "code",
   "execution_count": null,
   "metadata": {},
   "outputs": [],
   "source": [
    "from sklearn.ensemble import RandomForestClassifier\n",
    "\n",
    "# Train classical model for comparison\n",
    "rf_classifier = RandomForestClassifier(n_estimators=100, random_state=42)\n",
    "rf_classifier.fit(X_train, y_train)\n",
    "rf_pred = rf_classifier.predict(X_test)\n",
    "rf_accuracy = np.mean(rf_pred == y_test)\n",
    "\n",
    "# Compare results\n",
    "print(\"Performance Comparison:\")\n",
    "print(f\"Quantum Classifier Accuracy: {accuracy:.4f}\")\n",
    "print(f\"Classical Classifier Accuracy: {rf_accuracy:.4f}\")\n",
    "\n",
    "# Plot comparison\n",
    "plt.figure(figsize=(8, 6))\n",
    "plt.bar(['Quantum', 'Classical'], [accuracy, rf_accuracy])\n",
    "plt.title('Classifier Performance Comparison')\n",
    "plt.ylabel('Accuracy')\n",
    "plt.ylim(0, 1)\n",
    "plt.show()"
   ]
  }
 ],
 "metadata": {
  "kernelspec": {
   "display_name": "venv",
   "language": "python",
   "name": "python3"
  },
  "language_info": {
   "codemirror_mode": {
    "name": "ipython",
    "version": 3
   },
   "file_extension": ".py",
   "mimetype": "text/x-python",
   "name": "python",
   "nbconvert_exporter": "python",
   "pygments_lexer": "ipython3",
   "version": "3.11.6"
  }
 },
 "nbformat": 4,
 "nbformat_minor": 4
}
